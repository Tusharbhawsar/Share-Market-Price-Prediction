{
 "cells": [
  {
   "cell_type": "code",
   "execution_count": 1,
   "id": "4d1b9a05",
   "metadata": {},
   "outputs": [],
   "source": [
    "#Discription :This programe use an artificial recurrent neural network called long short term memory(lstm)\n",
    "#     to predict the closing stock price of a corcorporation (company) using the past 60 days stock price"
   ]
  },
  {
   "cell_type": "code",
   "execution_count": 2,
   "id": "70598504",
   "metadata": {},
   "outputs": [],
   "source": [
    "# import libraries \n",
    "import math\n",
    "import pandas_datareader as web#for fetch the data from yahoo finance website\n",
    "import numpy as np\n",
    "import pandas as pd\n",
    "from sklearn.preprocessing import MinMaxScaler# for converting the no. into array\n",
    "from keras.models import Sequential\n",
    "from keras.layers import Dense,LSTM\n",
    "import matplotlib.pyplot as plt\n",
    "plt.style.use(\"fivethirtyeight\")"
   ]
  },
  {
   "cell_type": "code",
   "execution_count": 3,
   "id": "a1b5f56c",
   "metadata": {
    "scrolled": true
   },
   "outputs": [
    {
     "data": {
      "text/html": [
       "<div>\n",
       "<style scoped>\n",
       "    .dataframe tbody tr th:only-of-type {\n",
       "        vertical-align: middle;\n",
       "    }\n",
       "\n",
       "    .dataframe tbody tr th {\n",
       "        vertical-align: top;\n",
       "    }\n",
       "\n",
       "    .dataframe thead th {\n",
       "        text-align: right;\n",
       "    }\n",
       "</style>\n",
       "<table border=\"1\" class=\"dataframe\">\n",
       "  <thead>\n",
       "    <tr style=\"text-align: right;\">\n",
       "      <th></th>\n",
       "      <th>High</th>\n",
       "      <th>Low</th>\n",
       "      <th>Open</th>\n",
       "      <th>Close</th>\n",
       "      <th>Volume</th>\n",
       "      <th>Adj Close</th>\n",
       "    </tr>\n",
       "    <tr>\n",
       "      <th>Date</th>\n",
       "      <th></th>\n",
       "      <th></th>\n",
       "      <th></th>\n",
       "      <th></th>\n",
       "      <th></th>\n",
       "      <th></th>\n",
       "    </tr>\n",
       "  </thead>\n",
       "  <tbody>\n",
       "    <tr>\n",
       "      <th>2013-01-01</th>\n",
       "      <td>2150.000000</td>\n",
       "      <td>2122.500000</td>\n",
       "      <td>2147.000000</td>\n",
       "      <td>2131.899902</td>\n",
       "      <td>145037.0</td>\n",
       "      <td>1694.256104</td>\n",
       "    </tr>\n",
       "    <tr>\n",
       "      <th>2013-01-02</th>\n",
       "      <td>2215.000000</td>\n",
       "      <td>2137.050049</td>\n",
       "      <td>2144.000000</td>\n",
       "      <td>2202.250000</td>\n",
       "      <td>561496.0</td>\n",
       "      <td>1750.164551</td>\n",
       "    </tr>\n",
       "    <tr>\n",
       "      <th>2013-01-03</th>\n",
       "      <td>2229.000000</td>\n",
       "      <td>2205.000000</td>\n",
       "      <td>2215.000000</td>\n",
       "      <td>2214.899902</td>\n",
       "      <td>411809.0</td>\n",
       "      <td>1760.217407</td>\n",
       "    </tr>\n",
       "    <tr>\n",
       "      <th>2013-01-04</th>\n",
       "      <td>2216.050049</td>\n",
       "      <td>2192.149902</td>\n",
       "      <td>2215.000000</td>\n",
       "      <td>2205.600098</td>\n",
       "      <td>220400.0</td>\n",
       "      <td>1752.827026</td>\n",
       "    </tr>\n",
       "    <tr>\n",
       "      <th>2013-01-07</th>\n",
       "      <td>2215.000000</td>\n",
       "      <td>2186.300049</td>\n",
       "      <td>2203.649902</td>\n",
       "      <td>2196.899902</td>\n",
       "      <td>212741.0</td>\n",
       "      <td>1745.912720</td>\n",
       "    </tr>\n",
       "    <tr>\n",
       "      <th>...</th>\n",
       "      <td>...</td>\n",
       "      <td>...</td>\n",
       "      <td>...</td>\n",
       "      <td>...</td>\n",
       "      <td>...</td>\n",
       "      <td>...</td>\n",
       "    </tr>\n",
       "    <tr>\n",
       "      <th>2020-12-11</th>\n",
       "      <td>3337.149902</td>\n",
       "      <td>3285.550049</td>\n",
       "      <td>3295.600098</td>\n",
       "      <td>3327.649902</td>\n",
       "      <td>611154.0</td>\n",
       "      <td>3216.417236</td>\n",
       "    </tr>\n",
       "    <tr>\n",
       "      <th>2020-12-14</th>\n",
       "      <td>3334.550049</td>\n",
       "      <td>3265.000000</td>\n",
       "      <td>3327.649902</td>\n",
       "      <td>3289.000000</td>\n",
       "      <td>425416.0</td>\n",
       "      <td>3179.059082</td>\n",
       "    </tr>\n",
       "    <tr>\n",
       "      <th>2020-12-15</th>\n",
       "      <td>3347.199951</td>\n",
       "      <td>3262.000000</td>\n",
       "      <td>3284.000000</td>\n",
       "      <td>3271.649902</td>\n",
       "      <td>746643.0</td>\n",
       "      <td>3162.289062</td>\n",
       "    </tr>\n",
       "    <tr>\n",
       "      <th>2020-12-16</th>\n",
       "      <td>3308.449951</td>\n",
       "      <td>3252.000000</td>\n",
       "      <td>3289.000000</td>\n",
       "      <td>3303.500000</td>\n",
       "      <td>616704.0</td>\n",
       "      <td>3193.074463</td>\n",
       "    </tr>\n",
       "    <tr>\n",
       "      <th>2020-12-17</th>\n",
       "      <td>3330.000000</td>\n",
       "      <td>3258.000000</td>\n",
       "      <td>3307.100098</td>\n",
       "      <td>3270.449951</td>\n",
       "      <td>678073.0</td>\n",
       "      <td>3161.129150</td>\n",
       "    </tr>\n",
       "  </tbody>\n",
       "</table>\n",
       "<p>1961 rows × 6 columns</p>\n",
       "</div>"
      ],
      "text/plain": [
       "                   High          Low         Open        Close    Volume  \\\n",
       "Date                                                                       \n",
       "2013-01-01  2150.000000  2122.500000  2147.000000  2131.899902  145037.0   \n",
       "2013-01-02  2215.000000  2137.050049  2144.000000  2202.250000  561496.0   \n",
       "2013-01-03  2229.000000  2205.000000  2215.000000  2214.899902  411809.0   \n",
       "2013-01-04  2216.050049  2192.149902  2215.000000  2205.600098  220400.0   \n",
       "2013-01-07  2215.000000  2186.300049  2203.649902  2196.899902  212741.0   \n",
       "...                 ...          ...          ...          ...       ...   \n",
       "2020-12-11  3337.149902  3285.550049  3295.600098  3327.649902  611154.0   \n",
       "2020-12-14  3334.550049  3265.000000  3327.649902  3289.000000  425416.0   \n",
       "2020-12-15  3347.199951  3262.000000  3284.000000  3271.649902  746643.0   \n",
       "2020-12-16  3308.449951  3252.000000  3289.000000  3303.500000  616704.0   \n",
       "2020-12-17  3330.000000  3258.000000  3307.100098  3270.449951  678073.0   \n",
       "\n",
       "              Adj Close  \n",
       "Date                     \n",
       "2013-01-01  1694.256104  \n",
       "2013-01-02  1750.164551  \n",
       "2013-01-03  1760.217407  \n",
       "2013-01-04  1752.827026  \n",
       "2013-01-07  1745.912720  \n",
       "...                 ...  \n",
       "2020-12-11  3216.417236  \n",
       "2020-12-14  3179.059082  \n",
       "2020-12-15  3162.289062  \n",
       "2020-12-16  3193.074463  \n",
       "2020-12-17  3161.129150  \n",
       "\n",
       "[1961 rows x 6 columns]"
      ]
     },
     "execution_count": 3,
     "metadata": {},
     "output_type": "execute_result"
    }
   ],
   "source": [
    "# 1st method to fetch the data from website \n",
    "df=web.DataReader(\"BAJAJ-AUTO.NS\",data_source=\"yahoo\",start=\"2013-01-01\",end=\"2020-12-17\")\n",
    "df"
   ]
  },
  {
   "cell_type": "code",
   "execution_count": 4,
   "id": "af061501",
   "metadata": {},
   "outputs": [
    {
     "name": "stdout",
     "output_type": "stream",
     "text": [
      "[*********************100%***********************]  1 of 1 completed\n"
     ]
    },
    {
     "data": {
      "text/html": [
       "<div>\n",
       "<style scoped>\n",
       "    .dataframe tbody tr th:only-of-type {\n",
       "        vertical-align: middle;\n",
       "    }\n",
       "\n",
       "    .dataframe tbody tr th {\n",
       "        vertical-align: top;\n",
       "    }\n",
       "\n",
       "    .dataframe thead th {\n",
       "        text-align: right;\n",
       "    }\n",
       "</style>\n",
       "<table border=\"1\" class=\"dataframe\">\n",
       "  <thead>\n",
       "    <tr style=\"text-align: right;\">\n",
       "      <th></th>\n",
       "      <th>Open</th>\n",
       "      <th>High</th>\n",
       "      <th>Low</th>\n",
       "      <th>Close</th>\n",
       "      <th>Adj Close</th>\n",
       "      <th>Volume</th>\n",
       "    </tr>\n",
       "    <tr>\n",
       "      <th>Date</th>\n",
       "      <th></th>\n",
       "      <th></th>\n",
       "      <th></th>\n",
       "      <th></th>\n",
       "      <th></th>\n",
       "      <th></th>\n",
       "    </tr>\n",
       "  </thead>\n",
       "  <tbody>\n",
       "    <tr>\n",
       "      <th>2017-01-02</th>\n",
       "      <td>8210.099609</td>\n",
       "      <td>8212.000000</td>\n",
       "      <td>8133.799805</td>\n",
       "      <td>8179.500000</td>\n",
       "      <td>8179.500000</td>\n",
       "      <td>118300</td>\n",
       "    </tr>\n",
       "    <tr>\n",
       "      <th>2017-01-03</th>\n",
       "      <td>8196.049805</td>\n",
       "      <td>8219.099609</td>\n",
       "      <td>8148.600098</td>\n",
       "      <td>8192.250000</td>\n",
       "      <td>8192.250000</td>\n",
       "      <td>127300</td>\n",
       "    </tr>\n",
       "    <tr>\n",
       "      <th>2017-01-04</th>\n",
       "      <td>8202.650391</td>\n",
       "      <td>8218.500000</td>\n",
       "      <td>8180.899902</td>\n",
       "      <td>8190.500000</td>\n",
       "      <td>8190.500000</td>\n",
       "      <td>132400</td>\n",
       "    </tr>\n",
       "    <tr>\n",
       "      <th>2017-01-05</th>\n",
       "      <td>8226.650391</td>\n",
       "      <td>8282.650391</td>\n",
       "      <td>8223.700195</td>\n",
       "      <td>8273.799805</td>\n",
       "      <td>8273.799805</td>\n",
       "      <td>159100</td>\n",
       "    </tr>\n",
       "    <tr>\n",
       "      <th>2017-01-06</th>\n",
       "      <td>8281.849609</td>\n",
       "      <td>8306.849609</td>\n",
       "      <td>8233.250000</td>\n",
       "      <td>8243.799805</td>\n",
       "      <td>8243.799805</td>\n",
       "      <td>139400</td>\n",
       "    </tr>\n",
       "    <tr>\n",
       "      <th>...</th>\n",
       "      <td>...</td>\n",
       "      <td>...</td>\n",
       "      <td>...</td>\n",
       "      <td>...</td>\n",
       "      <td>...</td>\n",
       "      <td>...</td>\n",
       "    </tr>\n",
       "    <tr>\n",
       "      <th>2019-12-10</th>\n",
       "      <td>11950.500000</td>\n",
       "      <td>11953.200195</td>\n",
       "      <td>11844.700195</td>\n",
       "      <td>11856.799805</td>\n",
       "      <td>11856.799805</td>\n",
       "      <td>650200</td>\n",
       "    </tr>\n",
       "    <tr>\n",
       "      <th>2019-12-11</th>\n",
       "      <td>11867.349609</td>\n",
       "      <td>11923.200195</td>\n",
       "      <td>11832.299805</td>\n",
       "      <td>11910.150391</td>\n",
       "      <td>11910.150391</td>\n",
       "      <td>997700</td>\n",
       "    </tr>\n",
       "    <tr>\n",
       "      <th>2019-12-12</th>\n",
       "      <td>11944.299805</td>\n",
       "      <td>12005.500000</td>\n",
       "      <td>11934.000000</td>\n",
       "      <td>11971.799805</td>\n",
       "      <td>11971.799805</td>\n",
       "      <td>752600</td>\n",
       "    </tr>\n",
       "    <tr>\n",
       "      <th>2019-12-13</th>\n",
       "      <td>12026.400391</td>\n",
       "      <td>12098.849609</td>\n",
       "      <td>12023.599609</td>\n",
       "      <td>12086.700195</td>\n",
       "      <td>12086.700195</td>\n",
       "      <td>597700</td>\n",
       "    </tr>\n",
       "    <tr>\n",
       "      <th>2019-12-16</th>\n",
       "      <td>12131.349609</td>\n",
       "      <td>12134.650391</td>\n",
       "      <td>12046.299805</td>\n",
       "      <td>12053.950195</td>\n",
       "      <td>12053.950195</td>\n",
       "      <td>437700</td>\n",
       "    </tr>\n",
       "  </tbody>\n",
       "</table>\n",
       "<p>724 rows × 6 columns</p>\n",
       "</div>"
      ],
      "text/plain": [
       "                    Open          High           Low         Close  \\\n",
       "Date                                                                 \n",
       "2017-01-02   8210.099609   8212.000000   8133.799805   8179.500000   \n",
       "2017-01-03   8196.049805   8219.099609   8148.600098   8192.250000   \n",
       "2017-01-04   8202.650391   8218.500000   8180.899902   8190.500000   \n",
       "2017-01-05   8226.650391   8282.650391   8223.700195   8273.799805   \n",
       "2017-01-06   8281.849609   8306.849609   8233.250000   8243.799805   \n",
       "...                  ...           ...           ...           ...   \n",
       "2019-12-10  11950.500000  11953.200195  11844.700195  11856.799805   \n",
       "2019-12-11  11867.349609  11923.200195  11832.299805  11910.150391   \n",
       "2019-12-12  11944.299805  12005.500000  11934.000000  11971.799805   \n",
       "2019-12-13  12026.400391  12098.849609  12023.599609  12086.700195   \n",
       "2019-12-16  12131.349609  12134.650391  12046.299805  12053.950195   \n",
       "\n",
       "               Adj Close  Volume  \n",
       "Date                              \n",
       "2017-01-02   8179.500000  118300  \n",
       "2017-01-03   8192.250000  127300  \n",
       "2017-01-04   8190.500000  132400  \n",
       "2017-01-05   8273.799805  159100  \n",
       "2017-01-06   8243.799805  139400  \n",
       "...                  ...     ...  \n",
       "2019-12-10  11856.799805  650200  \n",
       "2019-12-11  11910.150391  997700  \n",
       "2019-12-12  11971.799805  752600  \n",
       "2019-12-13  12086.700195  597700  \n",
       "2019-12-16  12053.950195  437700  \n",
       "\n",
       "[724 rows x 6 columns]"
      ]
     },
     "execution_count": 4,
     "metadata": {},
     "output_type": "execute_result"
    }
   ],
   "source": [
    "#2nd method to fetch the data from website \n",
    "from pandas_datareader import data as pdr\n",
    "import yfinance as yf\n",
    "\n",
    "yf.pdr_override()\n",
    "\n",
    "data2 = pdr.get_data_yahoo(\"^NSEI\", start=\"2017-01-01\", end=\"2019-12-17\")\n",
    "\n",
    "data2\n"
   ]
  },
  {
   "cell_type": "code",
   "execution_count": 5,
   "id": "6ab0d8d5",
   "metadata": {},
   "outputs": [
    {
     "data": {
      "text/plain": [
       "(1961, 6)"
      ]
     },
     "execution_count": 5,
     "metadata": {},
     "output_type": "execute_result"
    }
   ],
   "source": [
    "# get the no of rows and columns in the data\n",
    "df.shape"
   ]
  },
  {
   "cell_type": "code",
   "execution_count": 6,
   "id": "5b4993d1",
   "metadata": {
    "scrolled": true
   },
   "outputs": [
    {
     "data": {
      "text/html": [
       "<div>\n",
       "<style scoped>\n",
       "    .dataframe tbody tr th:only-of-type {\n",
       "        vertical-align: middle;\n",
       "    }\n",
       "\n",
       "    .dataframe tbody tr th {\n",
       "        vertical-align: top;\n",
       "    }\n",
       "\n",
       "    .dataframe thead th {\n",
       "        text-align: right;\n",
       "    }\n",
       "</style>\n",
       "<table border=\"1\" class=\"dataframe\">\n",
       "  <thead>\n",
       "    <tr style=\"text-align: right;\">\n",
       "      <th></th>\n",
       "      <th>High</th>\n",
       "      <th>Low</th>\n",
       "      <th>Open</th>\n",
       "      <th>Close</th>\n",
       "      <th>Volume</th>\n",
       "      <th>Adj Close</th>\n",
       "    </tr>\n",
       "  </thead>\n",
       "  <tbody>\n",
       "    <tr>\n",
       "      <th>count</th>\n",
       "      <td>1961.000000</td>\n",
       "      <td>1961.000000</td>\n",
       "      <td>1961.000000</td>\n",
       "      <td>1961.000000</td>\n",
       "      <td>1.961000e+03</td>\n",
       "      <td>1961.000000</td>\n",
       "    </tr>\n",
       "    <tr>\n",
       "      <th>mean</th>\n",
       "      <td>2607.059989</td>\n",
       "      <td>2544.923847</td>\n",
       "      <td>2577.042196</td>\n",
       "      <td>2574.977563</td>\n",
       "      <td>4.293521e+05</td>\n",
       "      <td>2260.158386</td>\n",
       "    </tr>\n",
       "    <tr>\n",
       "      <th>std</th>\n",
       "      <td>421.183792</td>\n",
       "      <td>417.141290</td>\n",
       "      <td>419.443511</td>\n",
       "      <td>418.434629</td>\n",
       "      <td>3.750743e+05</td>\n",
       "      <td>460.241553</td>\n",
       "    </tr>\n",
       "    <tr>\n",
       "      <th>min</th>\n",
       "      <td>1705.800049</td>\n",
       "      <td>1656.000000</td>\n",
       "      <td>1670.099976</td>\n",
       "      <td>1673.599976</td>\n",
       "      <td>0.000000e+00</td>\n",
       "      <td>1330.037598</td>\n",
       "    </tr>\n",
       "    <tr>\n",
       "      <th>25%</th>\n",
       "      <td>2278.600098</td>\n",
       "      <td>2202.050049</td>\n",
       "      <td>2240.050049</td>\n",
       "      <td>2242.300049</td>\n",
       "      <td>2.251810e+05</td>\n",
       "      <td>1881.676392</td>\n",
       "    </tr>\n",
       "    <tr>\n",
       "      <th>50%</th>\n",
       "      <td>2678.000000</td>\n",
       "      <td>2621.250000</td>\n",
       "      <td>2647.000000</td>\n",
       "      <td>2651.449951</td>\n",
       "      <td>3.227850e+05</td>\n",
       "      <td>2361.927246</td>\n",
       "    </tr>\n",
       "    <tr>\n",
       "      <th>75%</th>\n",
       "      <td>2921.699951</td>\n",
       "      <td>2856.199951</td>\n",
       "      <td>2893.449951</td>\n",
       "      <td>2887.250000</td>\n",
       "      <td>5.008360e+05</td>\n",
       "      <td>2594.545654</td>\n",
       "    </tr>\n",
       "    <tr>\n",
       "      <th>max</th>\n",
       "      <td>3468.350098</td>\n",
       "      <td>3341.100098</td>\n",
       "      <td>3419.000000</td>\n",
       "      <td>3412.949951</td>\n",
       "      <td>4.976986e+06</td>\n",
       "      <td>3226.566162</td>\n",
       "    </tr>\n",
       "  </tbody>\n",
       "</table>\n",
       "</div>"
      ],
      "text/plain": [
       "              High          Low         Open        Close        Volume  \\\n",
       "count  1961.000000  1961.000000  1961.000000  1961.000000  1.961000e+03   \n",
       "mean   2607.059989  2544.923847  2577.042196  2574.977563  4.293521e+05   \n",
       "std     421.183792   417.141290   419.443511   418.434629  3.750743e+05   \n",
       "min    1705.800049  1656.000000  1670.099976  1673.599976  0.000000e+00   \n",
       "25%    2278.600098  2202.050049  2240.050049  2242.300049  2.251810e+05   \n",
       "50%    2678.000000  2621.250000  2647.000000  2651.449951  3.227850e+05   \n",
       "75%    2921.699951  2856.199951  2893.449951  2887.250000  5.008360e+05   \n",
       "max    3468.350098  3341.100098  3419.000000  3412.949951  4.976986e+06   \n",
       "\n",
       "         Adj Close  \n",
       "count  1961.000000  \n",
       "mean   2260.158386  \n",
       "std     460.241553  \n",
       "min    1330.037598  \n",
       "25%    1881.676392  \n",
       "50%    2361.927246  \n",
       "75%    2594.545654  \n",
       "max    3226.566162  "
      ]
     },
     "execution_count": 6,
     "metadata": {},
     "output_type": "execute_result"
    }
   ],
   "source": [
    "df.describe()"
   ]
  },
  {
   "cell_type": "code",
   "execution_count": 7,
   "id": "b1d9b579",
   "metadata": {},
   "outputs": [
    {
     "data": {
      "image/png": "[encoded data removed]",
      "text/plain": [
       "<Figure size 1152x576 with 1 Axes>"
      ]
     },
     "metadata": {},
     "output_type": "display_data"
    }
   ],
   "source": [
    "#visualize the closing price history\n",
    "plt.figure(figsize=(16,8))\n",
    "plt.title(\"close price history\")\n",
    "plt.plot(df['Close'])\n",
    "plt.xlabel('Date',fontsize=18)\n",
    "plt.ylabel('Close Price USD ($)',fontsize=18)\n",
    "plt.show()\n",
    "#2012-2013 it touch the highest lower price"
   ]
  },
  {
   "cell_type": "code",
   "execution_count": 8,
   "id": "f5bf0eb9",
   "metadata": {},
   "outputs": [],
   "source": [
    "df3=pd.DataFrame(df)\n",
    "df3.to_csv(\"BAJAJ AUTO.csv\")\n",
    "df.to_excel(\"BAJAJ AUTO.xlsx\")"
   ]
  },
  {
   "cell_type": "code",
   "execution_count": 9,
   "id": "40229e4b",
   "metadata": {},
   "outputs": [
    {
     "data": {
      "text/plain": [
       "1569"
      ]
     },
     "execution_count": 9,
     "metadata": {},
     "output_type": "execute_result"
    }
   ],
   "source": [
    "#create new data frame only need a close column\n",
    "data=df.filter([\"Close\"])\n",
    "#Convert the dataframe into numpy array\n",
    "dataset=data.values\n",
    "#Get the no of rows to train the model on\n",
    "training_data_len=math.ceil(len(dataset)*.8)\n",
    "\n",
    "training_data_len"
   ]
  },
  {
   "cell_type": "code",
   "execution_count": 10,
   "id": "99bb4c0d",
   "metadata": {},
   "outputs": [
    {
     "data": {
      "text/plain": [
       "array([[  2150.        ,   2122.5       ,   2147.        ,\n",
       "          2131.89990234, 145037.        ,   1694.25610352],\n",
       "       [  2215.        ,   2137.05004883,   2144.        ,\n",
       "          2202.25      , 561496.        ,   1750.16455078],\n",
       "       [  2229.        ,   2205.        ,   2215.        ,\n",
       "          2214.89990234, 411809.        ,   1760.21740723],\n",
       "       ...,\n",
       "       [  3347.19995117,   3262.        ,   3284.        ,\n",
       "          3271.64990234, 746643.        ,   3162.2890625 ],\n",
       "       [  3308.44995117,   3252.        ,   3289.        ,\n",
       "          3303.5       , 616704.        ,   3193.07446289],\n",
       "       [  3330.        ,   3258.        ,   3307.10009766,\n",
       "          3270.44995117, 678073.        ,   3161.12915039]])"
      ]
     },
     "execution_count": 10,
     "metadata": {},
     "output_type": "execute_result"
    }
   ],
   "source": [
    "df.values"
   ]
  },
  {
   "cell_type": "code",
   "execution_count": 11,
   "id": "1c29dcee",
   "metadata": {},
   "outputs": [
    {
     "data": {
      "text/plain": [
       "(1961, 6)"
      ]
     },
     "execution_count": 11,
     "metadata": {},
     "output_type": "execute_result"
    }
   ],
   "source": [
    "df.shape"
   ]
  },
  {
   "cell_type": "code",
   "execution_count": 12,
   "id": "846e1eb4",
   "metadata": {
    "scrolled": true
   },
   "outputs": [
    {
     "data": {
      "text/plain": [
       "array([[0.2634892 ],\n",
       "       [0.3039354 ],\n",
       "       [0.31120817],\n",
       "       ...,\n",
       "       [0.91876273],\n",
       "       [0.93707422],\n",
       "       [0.91807284]])"
      ]
     },
     "execution_count": 12,
     "metadata": {},
     "output_type": "execute_result"
    }
   ],
   "source": [
    "#scale the data(scaled the data between 0 to 1)\n",
    "scaler=MinMaxScaler(feature_range=(0,1))\n",
    "scaled_data=scaler.fit_transform(dataset)\n",
    "\n",
    "scaled_data"
   ]
  },
  {
   "cell_type": "code",
   "execution_count": 13,
   "id": "0c48e6a2",
   "metadata": {},
   "outputs": [
    {
     "name": "stdout",
     "output_type": "stream",
     "text": [
      "[array([0.2634892 , 0.3039354 , 0.31120817, 0.30586146, 0.30085948,\n",
      "       0.30175064, 0.27843731, 0.26708249, 0.25555531, 0.24132586,\n",
      "       0.25397426, 0.23163827, 0.21798375, 0.22172077, 0.22105966,\n",
      "       0.22626265, 0.20677266, 0.19515916, 0.23365052, 0.23747373,\n",
      "       0.20596775, 0.2039555 , 0.20326562, 0.21982349, 0.22479669,\n",
      "       0.24210192, 0.23468542, 0.22433672, 0.21459166, 0.21338433,\n",
      "       0.23143699, 0.19846499, 0.18915112, 0.17060971, 0.15695519,\n",
      "       0.18078597, 0.17771005, 0.1781988 , 0.18400555, 0.19314691,\n",
      "       0.142582  , 0.16701642, 0.17213328, 0.2039268 , 0.18144708,\n",
      "       0.17236327, 0.17230579, 0.18435049, 0.19538907, 0.17977985,\n",
      "       0.16233074, 0.12751893, 0.10417689, 0.10158972, 0.07962745,\n",
      "       0.09331075, 0.09566794, 0.04697161, 0.08454311, 0.07410816])]\n",
      "[0.0733894996440041]\n",
      "\n"
     ]
    }
   ],
   "source": [
    "#create the training dataset\n",
    "#create the scaled training dataset\n",
    "train_data=scaled_data[0:training_data_len,:]\n",
    "#split the data into x_train,y_train data sets\n",
    "x_train=[]\n",
    "y_train=[]\n",
    "\n",
    "for i in range(60,len(train_data)):# only takes the past 60 values\n",
    "    x_train.append(train_data[i-60:i,0])\n",
    "    y_train.append(train_data[i,0])\n",
    "    if i<=60:\n",
    "        print(x_train)\n",
    "        print(y_train)\n",
    "        print()\n",
    "# on the basis of 60 independent variables(....) its predicting the 1 dependent variable(closing price) "
   ]
  },
  {
   "cell_type": "code",
   "execution_count": 14,
   "id": "14f65fed",
   "metadata": {},
   "outputs": [],
   "source": [
    "#convert the x_train and y_train into numpy array\n",
    "x_train,y_train=np.array(x_train),np.array(y_train)"
   ]
  },
  {
   "cell_type": "code",
   "execution_count": 15,
   "id": "3c4225db",
   "metadata": {},
   "outputs": [
    {
     "name": "stdout",
     "output_type": "stream",
     "text": [
      "(1509, 60)\n",
      "(1509,)\n"
     ]
    },
    {
     "data": {
      "text/plain": [
       "(None, None)"
      ]
     },
     "execution_count": 15,
     "metadata": {},
     "output_type": "execute_result"
    }
   ],
   "source": [
    "print(x_train.shape),print(y_train.shape)"
   ]
  },
  {
   "cell_type": "code",
   "execution_count": 59,
   "id": "f2fa0ff3",
   "metadata": {},
   "outputs": [
    {
     "data": {
      "text/plain": [
       "(1509, 60, 1)"
      ]
     },
     "execution_count": 59,
     "metadata": {},
     "output_type": "execute_result"
    }
   ],
   "source": [
    "#Reshape the data\n",
    "x_train=np.reshape(x_train,(x_train.shape[0],x_train.shape[1],1))#[0](1509)#[1](60),1 for 3 dimension\n",
    "x_train.shape"
   ]
  },
  {
   "cell_type": "code",
   "execution_count": 60,
   "id": "e3b4ceb1",
   "metadata": {},
   "outputs": [],
   "source": [
    "#Build LSTM model \n",
    "model=Sequential()\n",
    "model.add(LSTM(50,return_sequences=True,input_shape=(x_train.shape[1],1)))\n",
    "model.add(LSTM(50,return_sequences=False))\n",
    "model.add(Dense(25))\n",
    "model.add(Dense(1))"
   ]
  },
  {
   "cell_type": "code",
   "execution_count": 61,
   "id": "29e6c1f9",
   "metadata": {},
   "outputs": [],
   "source": [
    "#compile the model\n",
    "model.compile(optimizer=\"adam\",loss='mean_squared_error')"
   ]
  },
  {
   "cell_type": "code",
   "execution_count": 62,
   "id": "0d8ce49a",
   "metadata": {},
   "outputs": [
    {
     "name": "stdout",
     "output_type": "stream",
     "text": [
      "1509/1509 [==============================] - 34s 22ms/step - loss: 0.0033\n"
     ]
    },
    {
     "data": {
      "text/plain": [
       "<tensorflow.python.keras.callbacks.History at 0x165fd9489a0>"
      ]
     },
     "execution_count": 62,
     "metadata": {},
     "output_type": "execute_result"
    }
   ],
   "source": [
    "#Train the model\n",
    "#fit is another name of train\n",
    "model.fit(x_train,y_train,batch_size=1,epochs=1)"
   ]
  },
  {
   "cell_type": "code",
   "execution_count": 63,
   "id": "d7a18773",
   "metadata": {},
   "outputs": [],
   "source": [
    "#creating testing data set\n",
    "#create the new array containing scaled values from index 1505 to1956\n",
    "test_data=scaled_data[training_data_len-60:,:]\n",
    "#create the data x_test,y_test\n",
    "x_test=[]\n",
    "y_test=dataset[training_data_len:,:]\n",
    "for i in range(60,len(test_data)):\n",
    "    x_test.append(test_data[i-60:i,0])"
   ]
  },
  {
   "cell_type": "code",
   "execution_count": 64,
   "id": "bb99c876",
   "metadata": {},
   "outputs": [],
   "source": [
    "#convert the data into numpy array\n",
    "x_test=np.array(x_test)"
   ]
  },
  {
   "cell_type": "code",
   "execution_count": 65,
   "id": "9fea13b7",
   "metadata": {},
   "outputs": [
    {
     "data": {
      "text/plain": [
       "array([[[0.66087914],\n",
       "        [0.6625176 ],\n",
       "        [0.64386124],\n",
       "        ...,\n",
       "        [0.71339868],\n",
       "        [0.7296116 ],\n",
       "        [0.78560962]],\n",
       "\n",
       "       [[0.6625176 ],\n",
       "        [0.64386124],\n",
       "        [0.64061295],\n",
       "        ...,\n",
       "        [0.7296116 ],\n",
       "        [0.78560962],\n",
       "        [0.76620582]],\n",
       "\n",
       "       [[0.64386124],\n",
       "        [0.64061295],\n",
       "        [0.63305257],\n",
       "        ...,\n",
       "        [0.78560962],\n",
       "        [0.76620582],\n",
       "        [0.75068278]],\n",
       "\n",
       "       ...,\n",
       "\n",
       "       [[0.77362233],\n",
       "        [0.79187627],\n",
       "        [0.75493719],\n",
       "        ...,\n",
       "        [0.92980145],\n",
       "        [0.95095866],\n",
       "        [0.92873777]],\n",
       "\n",
       "       [[0.79187627],\n",
       "        [0.75493719],\n",
       "        [0.75444858],\n",
       "        ...,\n",
       "        [0.95095866],\n",
       "        [0.92873777],\n",
       "        [0.91876273]],\n",
       "\n",
       "       [[0.75493719],\n",
       "        [0.75444858],\n",
       "        [0.75464972],\n",
       "        ...,\n",
       "        [0.92873777],\n",
       "        [0.91876273],\n",
       "        [0.93707422]]])"
      ]
     },
     "execution_count": 65,
     "metadata": {},
     "output_type": "execute_result"
    }
   ],
   "source": [
    "#reshape the data\n",
    "x_test=np.reshape(x_test,(x_test.shape[0],x_test.shape[1],1))\n",
    "x_test"
   ]
  },
  {
   "cell_type": "code",
   "execution_count": 66,
   "id": "1e15534f",
   "metadata": {},
   "outputs": [],
   "source": [
    "#get the model predicted price values\n",
    "predictions=model.predict(x_test)\n",
    "predictions=scaler.inverse_transform(predictions)"
   ]
  },
  {
   "cell_type": "code",
   "execution_count": 67,
   "id": "a7ce4e1a",
   "metadata": {},
   "outputs": [
    {
     "data": {
      "text/plain": [
       "92.99113343428245"
      ]
     },
     "execution_count": 67,
     "metadata": {},
     "output_type": "execute_result"
    }
   ],
   "source": [
    "#get the root mean squared error(RMSE)\n",
    "rmse =np.sqrt(np.mean(((predictions- y_test)**2)))\n",
    "rmse"
   ]
  },
  {
   "cell_type": "code",
   "execution_count": 68,
   "id": "f563d2d5",
   "metadata": {},
   "outputs": [
    {
     "data": {
      "text/plain": [
       "92.99113343428245"
      ]
     },
     "execution_count": 68,
     "metadata": {},
     "output_type": "execute_result"
    }
   ],
   "source": [
    "# 2nd way\n",
    "rmse2 = np.sqrt(np.mean(np.power((np.array(y_test)-np.array(predictions)),2)))\n",
    "rmse2"
   ]
  },
  {
   "cell_type": "code",
   "execution_count": 69,
   "id": "9b020b7c",
   "metadata": {},
   "outputs": [
    {
     "data": {
      "text/plain": [
       "92.99113343428245"
      ]
     },
     "execution_count": 69,
     "metadata": {},
     "output_type": "execute_result"
    }
   ],
   "source": [
    "#3 way\n",
    "rmse3 = np.sqrt(((predictions - y_test) ** 2).mean())\n",
    "rmse3"
   ]
  },
  {
   "cell_type": "code",
   "execution_count": 73,
   "id": "f7d137d7",
   "metadata": {},
   "outputs": [
    {
     "name": "stderr",
     "output_type": "stream",
     "text": [
      "<ipython-input-73-ae69ade13f27>:4: SettingWithCopyWarning: \n",
      "A value is trying to be set on a copy of a slice from a DataFrame.\n",
      "Try using .loc[row_indexer,col_indexer] = value instead\n",
      "\n",
      "See the caveats in the documentation: https://pandas.pydata.org/pandas-docs/stable/user_guide/indexing.html#returning-a-view-versus-a-copy\n",
      "  valid[\"predictions\"]=predictions\n"
     ]
    },
    {
     "data": {
      "image/png": "[encoded data removed]",
      "text/plain": [
       "<Figure size 1152x576 with 1 Axes>"
      ]
     },
     "metadata": {},
     "output_type": "display_data"
    }
   ],
   "source": [
    "#plot the data\n",
    "train=data[:training_data_len]\n",
    "valid=data[training_data_len:]\n",
    "valid[\"predictions\"]=predictions\n",
    "# visual the data\n",
    "plt.figure(figsize=(16,8))\n",
    "plt.title(\"Model\")\n",
    "plt.xlabel(\"Date\",fontsize=18)\n",
    "plt.ylabel(\"Close Price INR\",fontsize=18)\n",
    "plt.plot(train['Close'])\n",
    "plt.plot(valid[[\"Close\",\"predictions\"]])\n",
    "plt.legend\n",
    "plt.show()\n",
    "#Blue line=Train \n",
    "#Orange line=val(actual values of the day or actuall closing stock price of Bajaj Stock)\n",
    "#Yellow=Predictions(our model prediction predicted values)"
   ]
  },
  {
   "cell_type": "code",
   "execution_count": 74,
   "id": "3fe39085",
   "metadata": {},
   "outputs": [
    {
     "data": {
      "text/html": [
       "<div>\n",
       "<style scoped>\n",
       "    .dataframe tbody tr th:only-of-type {\n",
       "        vertical-align: middle;\n",
       "    }\n",
       "\n",
       "    .dataframe tbody tr th {\n",
       "        vertical-align: top;\n",
       "    }\n",
       "\n",
       "    .dataframe thead th {\n",
       "        text-align: right;\n",
       "    }\n",
       "</style>\n",
       "<table border=\"1\" class=\"dataframe\">\n",
       "  <thead>\n",
       "    <tr style=\"text-align: right;\">\n",
       "      <th></th>\n",
       "      <th>Close</th>\n",
       "      <th>predictions</th>\n",
       "    </tr>\n",
       "    <tr>\n",
       "      <th>Date</th>\n",
       "      <th></th>\n",
       "      <th></th>\n",
       "    </tr>\n",
       "  </thead>\n",
       "  <tbody>\n",
       "    <tr>\n",
       "      <th>2019-05-20</th>\n",
       "      <td>3006.300049</td>\n",
       "      <td>2915.036377</td>\n",
       "    </tr>\n",
       "    <tr>\n",
       "      <th>2019-05-21</th>\n",
       "      <td>2979.300049</td>\n",
       "      <td>2929.129150</td>\n",
       "    </tr>\n",
       "    <tr>\n",
       "      <th>2019-05-22</th>\n",
       "      <td>3047.199951</td>\n",
       "      <td>2934.907471</td>\n",
       "    </tr>\n",
       "    <tr>\n",
       "      <th>2019-05-23</th>\n",
       "      <td>3065.000000</td>\n",
       "      <td>2949.814453</td>\n",
       "    </tr>\n",
       "    <tr>\n",
       "      <th>2019-05-24</th>\n",
       "      <td>3077.899902</td>\n",
       "      <td>2967.708496</td>\n",
       "    </tr>\n",
       "    <tr>\n",
       "      <th>...</th>\n",
       "      <td>...</td>\n",
       "      <td>...</td>\n",
       "    </tr>\n",
       "    <tr>\n",
       "      <th>2020-12-11</th>\n",
       "      <td>3327.649902</td>\n",
       "      <td>3220.202881</td>\n",
       "    </tr>\n",
       "    <tr>\n",
       "      <th>2020-12-14</th>\n",
       "      <td>3289.000000</td>\n",
       "      <td>3222.353271</td>\n",
       "    </tr>\n",
       "    <tr>\n",
       "      <th>2020-12-15</th>\n",
       "      <td>3271.649902</td>\n",
       "      <td>3217.849854</td>\n",
       "    </tr>\n",
       "    <tr>\n",
       "      <th>2020-12-16</th>\n",
       "      <td>3303.500000</td>\n",
       "      <td>3209.152344</td>\n",
       "    </tr>\n",
       "    <tr>\n",
       "      <th>2020-12-17</th>\n",
       "      <td>3270.449951</td>\n",
       "      <td>3207.626465</td>\n",
       "    </tr>\n",
       "  </tbody>\n",
       "</table>\n",
       "<p>392 rows × 2 columns</p>\n",
       "</div>"
      ],
      "text/plain": [
       "                  Close  predictions\n",
       "Date                                \n",
       "2019-05-20  3006.300049  2915.036377\n",
       "2019-05-21  2979.300049  2929.129150\n",
       "2019-05-22  3047.199951  2934.907471\n",
       "2019-05-23  3065.000000  2949.814453\n",
       "2019-05-24  3077.899902  2967.708496\n",
       "...                 ...          ...\n",
       "2020-12-11  3327.649902  3220.202881\n",
       "2020-12-14  3289.000000  3222.353271\n",
       "2020-12-15  3271.649902  3217.849854\n",
       "2020-12-16  3303.500000  3209.152344\n",
       "2020-12-17  3270.449951  3207.626465\n",
       "\n",
       "[392 rows x 2 columns]"
      ]
     },
     "execution_count": 74,
     "metadata": {},
     "output_type": "execute_result"
    }
   ],
   "source": [
    "#show the valid and predicted prices\n",
    "valid"
   ]
  },
  {
   "cell_type": "code",
   "execution_count": 75,
   "id": "bc14c779",
   "metadata": {},
   "outputs": [
    {
     "name": "stdout",
     "output_type": "stream",
     "text": [
      "[[3202.142]]\n"
     ]
    }
   ],
   "source": [
    "#Get the quotes\n",
    "Bajaj_quote=web.DataReader(\"BAJAJ-AUTO.NS\",data_source=\"yahoo\",start=\"2013-01-01\",end=\"2020-12-17\")\n",
    "#create the new dataframe\n",
    "new_df=Bajaj_quote.filter([\"Close\"])# only get the close column\n",
    "#Get the last 60 days closing price values and convert the dataframe into array\n",
    "last_60_days=new_df[-60:].values#only get the last 60 days closing price\n",
    "#scale the data between 0 to 1\n",
    "last_60_days_scaled=scaler.transform(last_60_days)\n",
    "#create an empty list\n",
    "X_test=[]\n",
    "#Append the past 60 days\n",
    "X_test.append(last_60_days_scaled)\n",
    "#Convert the X_test dataset into numpy array\n",
    "X_test=np.array(X_test)\n",
    "#Reshape the data\n",
    "X_test=np.reshape(X_test,(X_test.shape[0],X_test.shape[1],1))\n",
    "#Get the Predicted scaled price\n",
    "pred_price= model.predict(X_test)\n",
    "#undo the Scaling\n",
    "pred_price =scaler.inverse_transform(pred_price)\n",
    "print(pred_price)"
   ]
  },
  {
   "cell_type": "code",
   "execution_count": 76,
   "id": "1a6ca66c",
   "metadata": {},
   "outputs": [
    {
     "name": "stdout",
     "output_type": "stream",
     "text": [
      "Date\n",
      "2020-12-17    3270.449951\n",
      "Name: Close, dtype: float64\n"
     ]
    }
   ],
   "source": [
    "#Get the quotes\n",
    "Bajaj_quote2=web.DataReader(\"BAJAJ-AUTO.NS\",data_source=\"yahoo\",start=\"2020-12-17\",end=\"2020-12-17\")\n",
    "print(Bajaj_quote2['Close'])"
   ]
  },
  {
   "cell_type": "code",
   "execution_count": null,
   "id": "d52a451c",
   "metadata": {},
   "outputs": [],
   "source": []
  }
 ],
 "metadata": {
  "kernelspec": {
   "display_name": "Python 3 (ipykernel)",
   "language": "python",
   "name": "python3"
  },
  "language_info": {
   "codemirror_mode": {
    "name": "ipython",
    "version": 3
   },
   "file_extension": ".py",
   "mimetype": "text/x-python",
   "name": "python",
   "nbconvert_exporter": "python",
   "pygments_lexer": "ipython3",
   "version": "3.8.12"
  }
 },
 "nbformat": 4,
 "nbformat_minor": 5
}
